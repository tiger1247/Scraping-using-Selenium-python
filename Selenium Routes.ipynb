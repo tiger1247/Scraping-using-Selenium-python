{
 "cells": [
  {
   "cell_type": "code",
   "execution_count": 12,
   "id": "314b3ade",
   "metadata": {},
   "outputs": [
    {
     "name": "stderr",
     "output_type": "stream",
     "text": [
      "\n",
      "\n",
      "====== WebDriver manager ======\n",
      "Current google-chrome version is 100.0.4896\n",
      "Get LATEST chromedriver version for 100.0.4896 google-chrome\n",
      "Driver [C:\\Users\\risha\\.wdm\\drivers\\chromedriver\\win32\\100.0.4896.60\\chromedriver.exe] found in cache\n",
      "C:\\Users\\risha\\AppData\\Local\\Temp/ipykernel_9356/733249463.py:18: DeprecationWarning: find_element_by_xpath is deprecated. Please use find_element(by=By.XPATH, value=xpath) instead\n",
      "  driver.find_element_by_xpath('/html/body/app-root/app-header/app-home/section[1]/div/div/div/div/div/form/div[2]/div/mat-form-field/div/div[1]/div/mat-select').send_keys(\"Canada\")\n",
      "C:\\Users\\risha\\AppData\\Local\\Temp/ipykernel_9356/733249463.py:21: DeprecationWarning: find_element_by_xpath is deprecated. Please use find_element(by=By.XPATH, value=xpath) instead\n",
      "  driver.find_element_by_xpath('/html/body/app-root/app-header/app-home/section[1]/div/div/div/div/div/form/div[3]/div[1]/mat-form-field/div/div[1]/div/input').send_keys(\"Calgary (YYC), Canada\")\n",
      "C:\\Users\\risha\\AppData\\Local\\Temp/ipykernel_9356/733249463.py:24: DeprecationWarning: find_element_by_xpath is deprecated. Please use find_element(by=By.XPATH, value=xpath) instead\n",
      "  driver.find_element_by_xpath('/html/body/app-root/app-header/app-home/section[1]/div/div/div/div/div/form/div[3]/div[2]/mat-form-field/div/div[1]/div[1]/input').send_keys(\"April 20, 2022\")\n"
     ]
    }
   ],
   "source": [
    "from selenium import webdriver\n",
    "from selenium.webdriver.common.by import By\n",
    "from selenium.webdriver.common.keys import Keys\n",
    "import pandas as pd\n",
    "import time\n",
    "import datetime\n",
    "from selenium.webdriver.chrome.service import Service\n",
    "from webdriver_manager.chrome import ChromeDriverManager\n",
    "\n",
    "s=Service(ChromeDriverManager().install())\n",
    "driver = webdriver.Chrome(service=s)\n",
    "driver.delete_all_cookies()  \n",
    "website = 'https://routes.ca/en/'\n",
    "driver.get(website)\n",
    "driver.implicitly_wait(5)\n",
    "\n",
    "#country\n",
    "driver.find_element_by_xpath('/html/body/app-root/app-header/app-home/section[1]/div/div/div/div/div/form/div[2]/div/mat-form-field/div/div[1]/div/mat-select').send_keys(\"Canada\")\n",
    "time.sleep(2) \n",
    "#location\n",
    "driver.find_element_by_xpath('/html/body/app-root/app-header/app-home/section[1]/div/div/div/div/div/form/div[3]/div[1]/mat-form-field/div/div[1]/div/input').send_keys(\"Calgary (YYC), Canada\")\n",
    "time.sleep(2) \n",
    "#choose pick up date\n",
    "driver.find_element_by_xpath('/html/body/app-root/app-header/app-home/section[1]/div/div/div/div/div/form/div[3]/div[2]/mat-form-field/div/div[1]/div[1]/input').send_keys(\"20\")\n",
    "# time.sleep(2) \n",
    "# #choose drop date\n",
    "# driver.find_element_by_xpath('/html/body/app-root/app-header/app-home/section[1]/div/div/div/div/div/form/div[4]/div[2]/mat-form-field/div/div[1]/div[1]/input').send_keys(\"4/22/2022\")\n",
    "# time.sleep(2) \n",
    "# #Search Button\n",
    "# driver.find_element_by_xpath('/html/body/app-root/app-header/app-home/section[1]/div/div/div/div/div/form/div[6]/div/button').click()\n",
    "# time.sleep(2) "
   ]
  },
  {
   "cell_type": "code",
   "execution_count": null,
   "id": "23f800cc",
   "metadata": {},
   "outputs": [],
   "source": []
  }
 ],
 "metadata": {
  "kernelspec": {
   "display_name": "Python 3 (ipykernel)",
   "language": "python",
   "name": "python3"
  },
  "language_info": {
   "codemirror_mode": {
    "name": "ipython",
    "version": 3
   },
   "file_extension": ".py",
   "mimetype": "text/x-python",
   "name": "python",
   "nbconvert_exporter": "python",
   "pygments_lexer": "ipython3",
   "version": "3.9.7"
  }
 },
 "nbformat": 4,
 "nbformat_minor": 5
}
